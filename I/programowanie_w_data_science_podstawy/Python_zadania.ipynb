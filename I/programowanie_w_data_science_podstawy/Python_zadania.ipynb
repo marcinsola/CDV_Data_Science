{
 "cells": [
  {
   "cell_type": "markdown",
   "metadata": {},
   "source": [
    "# Podstawy programowania w data sciene"
   ]
  },
  {
   "cell_type": "markdown",
   "metadata": {},
   "source": [
    "#### Marcin Sola\n",
    "#### Data Science\n",
    "#### st. niestacjonarne\n",
    "Zadania"
   ]
  },
  {
   "cell_type": "markdown",
   "metadata": {},
   "source": [
    "Sola;Mar;[1, 2, 4, 9, 10, 11, 12, 17, 20, 21, 23, 30, 34]"
   ]
  },
  {
   "cell_type": "code",
   "execution_count": 1,
   "metadata": {},
   "outputs": [],
   "source": [
    "from math import sqrt\n",
    "import numpy as np\n",
    "from matplotlib import pyplot as plt\n",
    "from collections import Counter\n",
    "from scipy.stats import kurtosis, skew"
   ]
  },
  {
   "cell_type": "markdown",
   "metadata": {},
   "source": [
    "##### Zad. 1"
   ]
  },
  {
   "cell_type": "markdown",
   "metadata": {},
   "source": [
    "Napisz skrypt, który będzie wyświetlał wszystkie kolejne dzielniki wprowadzonej liczby"
   ]
  },
  {
   "cell_type": "code",
   "execution_count": 2,
   "metadata": {},
   "outputs": [
    {
     "name": "stdout",
     "output_type": "stream",
     "text": [
      "1\n",
      "3\n",
      "5\n",
      "15\n"
     ]
    }
   ],
   "source": [
    "def display_divisors(number):\n",
    "    for div in range(1, int(number)+1):\n",
    "        if number % div == 0:\n",
    "            print(div)\n",
    "            \n",
    "display_divisors(15)"
   ]
  },
  {
   "cell_type": "markdown",
   "metadata": {},
   "source": [
    "Zad. 2\n",
    "Korzystając z pojęcia funkcji utwórz skrypt, który będzie miał możliwość zamiany temperatury pomiędzy skalami Celsjusza i Fahrenheita (w obie strony)"
   ]
  },
  {
   "cell_type": "code",
   "execution_count": 3,
   "metadata": {},
   "outputs": [
    {
     "data": {
      "text/plain": [
       "32.0"
      ]
     },
     "execution_count": 3,
     "metadata": {},
     "output_type": "execute_result"
    }
   ],
   "source": [
    "def temp_convert(temp, scale):\n",
    "    try:\n",
    "        temp = float(temp)\n",
    "        available_scales = ('c', 'f')\n",
    "        if scale not in available_scales:\n",
    "            raise ValueError('You entered a wrong scale (enter c for celsius or f for fahrenheit')\n",
    "\n",
    "        if scale == 'c':\n",
    "            return (temp - 32) * (5 / 9)\n",
    "\n",
    "        if scale == 'f':\n",
    "            return (temp * (9 / 5)) + 32\n",
    "    except ValueError:\n",
    "        print('You entered a wrong temperature value (only integers or floats allowed)')\n",
    "        \n",
    "temp_convert(0, 'f')"
   ]
  },
  {
   "cell_type": "markdown",
   "metadata": {},
   "source": [
    "Zad. 4\n",
    "Utwórz skrypt do znajdowania miejsc zerowych trójmiany kwadrawtowego x1 = (-b+sqrt(b*b-4*a*c))/(2*a)"
   ]
  },
  {
   "cell_type": "code",
   "execution_count": 4,
   "metadata": {},
   "outputs": [
    {
     "name": "stdin",
     "output_type": "stream",
     "text": [
      "Insert a:  9\n",
      "Insert b:  1\n",
      "Insert c:  6\n"
     ]
    },
    {
     "name": "stdout",
     "output_type": "stream",
     "text": [
      "Wrong values entered or trying to calculate square root of negative number\n"
     ]
    }
   ],
   "source": [
    "def zero_places(a, b, c):\n",
    "    x1 = (-b + sqrt(b * b - 4 * a * c)) / (2 * a)\n",
    "    x2 = (-b - sqrt(b * b - 4 * a * c)) / (2 * a)\n",
    "\n",
    "    print(x1, x2)\n",
    "\n",
    "\n",
    "try:\n",
    "    first = int(input('Insert a: '))\n",
    "    second = int(input('Insert b: '))\n",
    "    third = int(input('Insert c: '))\n",
    "\n",
    "    zero_places(first, second, third)\n",
    "except ValueError:\n",
    "    print(\"Wrong values entered or trying to calculate square root of negative number\")"
   ]
  },
  {
   "cell_type": "markdown",
   "metadata": {},
   "source": [
    "Zad. 9\n",
    "Utwórz skrypt z interfejsem tekstowym, który wyliczy sumę n kolejnych liczb (użytkownik podaje pierwszą i ostatnią liczbę sumy). Uwaga! W zadaniu należy zbudować funkcję własną realizującą dane zadanie"
   ]
  },
  {
   "cell_type": "code",
   "execution_count": 5,
   "metadata": {},
   "outputs": [
    {
     "name": "stdin",
     "output_type": "stream",
     "text": [
      "Podaj początek ciągu liczb: 1\n",
      "Podaj koniec ciągu liczb: 9\n"
     ]
    },
    {
     "name": "stdout",
     "output_type": "stream",
     "text": [
      "45\n"
     ]
    }
   ],
   "source": [
    "def sum_of_numbers(start, end):\n",
    "    result = 0\n",
    "    for num in range(int(start), int(end)+1):\n",
    "        result += num\n",
    "        \n",
    "    print(result)\n",
    "    \n",
    "start = int(input('Podaj początek ciągu liczb:'))\n",
    "end = int(input('Podaj koniec ciągu liczb:'))\n",
    "\n",
    "sum_of_numbers(start, end)"
   ]
  },
  {
   "cell_type": "markdown",
   "metadata": {},
   "source": [
    "Zad. 10\n",
    "Utwórz skrypt z interfejsem tekstowym, który przyjmie od użytkownika ile elementów chce on wprowadzić do listy, przyjmie te elementy, a następnie wyliczy: średnią i odchylenie standardowe średniej. Wykonać zadanie na dwa sposoby: poprzez utworzenie funkcji własnych obliczających średnią i odchylenie standardowe oraz korzystająć z gotowych funkcji np. z pakietu numpy"
   ]
  },
  {
   "cell_type": "code",
   "execution_count": 6,
   "metadata": {},
   "outputs": [
    {
     "name": "stdin",
     "output_type": "stream",
     "text": [
      "Ile elementów chcesz wprowadzić: 3\n",
      "Podaj 1 element 1\n",
      "Podaj 2 element 2\n",
      "Podaj 3 element 3\n"
     ]
    },
    {
     "name": "stdout",
     "output_type": "stream",
     "text": [
      "Średnia podanych przez Ciebie elementów wynosi 2.0\n",
      "Średnia obliczona przez numpy to 2.0\n",
      "Odchylenie standardowe podanych przez Ciebie elementów wynosi 0.816496580927726\n",
      "Odchylenie standardowe obliczone przez numpy to 0.816496580927726\n"
     ]
    }
   ],
   "source": [
    "def calculate_mean(numbers):\n",
    "    summary = 0\n",
    "    for number in numbers:\n",
    "        summary += number\n",
    "    \n",
    "    return summary / len(numbers)\n",
    "\n",
    "def calculate_std_dev(numbers, mean):\n",
    "    summary = 0\n",
    "    for number in numbers:\n",
    "        summary += (number - mean)**2\n",
    "        \n",
    "    return sqrt(summary/(len(numbers)))\n",
    "\n",
    "def run_script():\n",
    "    number_of_elements = int(input('Ile elementów chcesz wprowadzić:'))\n",
    "    elements = []\n",
    "    for element_number in range(1, number_of_elements+1):\n",
    "        elements.append(int(input('Podaj ' + str(element_number) + ' element')))\n",
    "    \n",
    "    mean = calculate_mean(elements)\n",
    "    std_dev = calculate_std_dev(elements, mean)\n",
    "    \n",
    "    print('Średnia podanych przez Ciebie elementów wynosi', mean)\n",
    "    print('Średnia obliczona przez numpy to', np.mean(elements))\n",
    "    \n",
    "    print('Odchylenie standardowe podanych przez Ciebie elementów wynosi', std_dev)\n",
    "    print('Odchylenie standardowe obliczone przez numpy to', np.std(elements))\n",
    "    \n",
    "run_script()"
   ]
  },
  {
   "cell_type": "markdown",
   "metadata": {},
   "source": [
    "Zad. 11 Utwórz skrypt z interfejsem tekstowym, który obliczy silnię od danego argumentu. Wykonać zadanie na dwa sposoby: iteracyjnie i rekurencyjnie"
   ]
  },
  {
   "cell_type": "code",
   "execution_count": 7,
   "metadata": {},
   "outputs": [
    {
     "name": "stdin",
     "output_type": "stream",
     "text": [
      "Podaj liczbę 4\n"
     ]
    },
    {
     "name": "stdout",
     "output_type": "stream",
     "text": [
      "24\n",
      "24\n"
     ]
    }
   ],
   "source": [
    "def iterative_factorial(number):\n",
    "    if number <= 2:\n",
    "        return number\n",
    "    \n",
    "    result = 1\n",
    "    for i in range(2, number+1):\n",
    "        result *= i\n",
    "        \n",
    "    print(result)\n",
    "\n",
    "def recursive_factorial(number, result=0):\n",
    "    if result == 0:\n",
    "        result = number\n",
    "        \n",
    "    if number-1 >= 1:\n",
    "        result *= (number-1)\n",
    "        recursive_factorial(number-1, result=result)\n",
    "    else:\n",
    "        print(result)\n",
    "        \n",
    "\n",
    "number = int(input('Podaj liczbę'))\n",
    "iterative_factorial(number)\n",
    "recursive_factorial(number)\n",
    "        "
   ]
  },
  {
   "cell_type": "markdown",
   "metadata": {},
   "source": [
    "Zad. 12 Utworzyć skrypt z interfejsem tekstowym obliczający n-ty element ciągu Fibonacciego: wykonać zadanie iteracyjnie i rekurencyjnie"
   ]
  },
  {
   "cell_type": "code",
   "execution_count": 8,
   "metadata": {},
   "outputs": [
    {
     "name": "stdin",
     "output_type": "stream",
     "text": [
      "Podaj numer liczby w ciągu Fibonacciego:  6\n"
     ]
    },
    {
     "name": "stdout",
     "output_type": "stream",
     "text": [
      "6 liczba w ciągu Fibonacciego to: 8\n",
      "8\n"
     ]
    }
   ],
   "source": [
    "def iterative_fibonacci(n):\n",
    "    if n == 0 or n == 1:\n",
    "        return n\n",
    "\n",
    "    f_prim = 0\n",
    "    f = 1\n",
    "    for i in range(2, n + 1):\n",
    "        m = f + f_prim\n",
    "        f_prim = f\n",
    "        f = m\n",
    "\n",
    "    return f\n",
    "\n",
    "def recursive_fibonacci(n):\n",
    "    if n == 0 or n == 1:\n",
    "        return n\n",
    "\n",
    "    return recursive_fibonacci(n-1) + recursive_fibonacci(n-2)\n",
    "\n",
    "n = int(input('Podaj numer liczby w ciągu Fibonacciego: '))\n",
    "f = iterative_fibonacci(n)\n",
    "print(str(n) + ' liczba w ciągu Fibonacciego to: ' + str(f))\n",
    "print(recursive_fibonacci(n))"
   ]
  },
  {
   "cell_type": "markdown",
   "metadata": {},
   "source": [
    "Zad. 17 Utwórz funkcję, która będzie generować listy danych do wykreślenia w oparciu o:"
   ]
  },
  {
   "cell_type": "markdown",
   "metadata": {},
   "source": [
    "a) funkcję liniową ax+b\n",
    "\n"
   ]
  },
  {
   "cell_type": "code",
   "execution_count": 9,
   "metadata": {},
   "outputs": [
    {
     "data": {
      "text/plain": [
       "[<matplotlib.lines.Line2D at 0x7f73581dad50>]"
      ]
     },
     "execution_count": 9,
     "metadata": {},
     "output_type": "execute_result"
    },
    {
     "data": {
      "image/png": "[encoded data removed]",
      "text/plain": [
       "<Figure size 432x288 with 1 Axes>"
      ]
     },
     "metadata": {
      "needs_background": "light"
     },
     "output_type": "display_data"
    }
   ],
   "source": [
    "def linear_data(a, b):\n",
    "    xaxis = []\n",
    "    yaxis = []\n",
    "    for x in range(0, 100):\n",
    "        xaxis.append(x)\n",
    "        yaxis.append(a*x + b)\n",
    "        \n",
    "    return xaxis, yaxis\n",
    "\n",
    "x, y = linear_data(6, 3)\n",
    "plt.plot(x, y)"
   ]
  },
  {
   "cell_type": "markdown",
   "metadata": {},
   "source": [
    "b)funckję kwadratową ax^2+bx+c"
   ]
  },
  {
   "cell_type": "code",
   "execution_count": 10,
   "metadata": {},
   "outputs": [
    {
     "data": {
      "text/plain": [
       "[<matplotlib.lines.Line2D at 0x7f73580f0a50>]"
      ]
     },
     "execution_count": 10,
     "metadata": {},
     "output_type": "execute_result"
    },
    {
     "data": {
      "image/png": "[encoded data removed]",
      "text/plain": [
       "<Figure size 432x288 with 1 Axes>"
      ]
     },
     "metadata": {
      "needs_background": "light"
     },
     "output_type": "display_data"
    }
   ],
   "source": [
    "def quadratic_data(a, b, c):\n",
    "    xaxis = []\n",
    "    yaxis = []\n",
    "    for x in range(0, 100):\n",
    "        xaxis.append(x)\n",
    "        yaxis.append(a*(x**2) + b*x + c)\n",
    "        \n",
    "    return xaxis, yaxis\n",
    "\n",
    "x, y = quadratic_data(6, 3, 6)\n",
    "plt.plot(x, y)"
   ]
  },
  {
   "cell_type": "markdown",
   "metadata": {},
   "source": [
    "c)funkcję odwrotnie potęgową a/x^n"
   ]
  },
  {
   "cell_type": "code",
   "execution_count": 11,
   "metadata": {},
   "outputs": [
    {
     "data": {
      "text/plain": [
       "[<matplotlib.lines.Line2D at 0x7f7358067b10>]"
      ]
     },
     "execution_count": 11,
     "metadata": {},
     "output_type": "execute_result"
    },
    {
     "data": {
      "image/png": "[encoded data removed]",
      "text/plain": [
       "<Figure size 432x288 with 1 Axes>"
      ]
     },
     "metadata": {
      "needs_background": "light"
     },
     "output_type": "display_data"
    }
   ],
   "source": [
    "def inverse_power_data(a, n):\n",
    "    xaxis = []\n",
    "    yaxis = []\n",
    "    for x in range(1, 100):\n",
    "        xaxis.append(x)\n",
    "        yaxis.append(a/(x**n))\n",
    "        \n",
    "    return xaxis, yaxis\n",
    "\n",
    "x, y = inverse_power_data(6, 3)\n",
    "plt.plot(x, y)"
   ]
  },
  {
   "cell_type": "markdown",
   "metadata": {},
   "source": [
    "Każda z funkcji powinna przyjmować parametry równania, natomiast zwracać powinna dwie listy - x i y, które następnie będzie można wykreślić na wykresie"
   ]
  },
  {
   "cell_type": "markdown",
   "metadata": {},
   "source": [
    "Zad. 20\n",
    "Korzystając ze słownika, utwórz funkcję, która będzie zwracać tłumaczenia nazw miesięcy z języka polskiego na angielski"
   ]
  },
  {
   "cell_type": "code",
   "execution_count": 12,
   "metadata": {},
   "outputs": [
    {
     "name": "stdout",
     "output_type": "stream",
     "text": [
      "Not a valid month name\n",
      "October\n"
     ]
    }
   ],
   "source": [
    "def translate_month(month):\n",
    "    months = {\n",
    "        'styczeń': 'January',\n",
    "        'luty': 'February',\n",
    "        'marzec': 'March', \n",
    "        'kwiecień': 'April',\n",
    "        'maj': 'May', \n",
    "        'czerwiec': 'June',\n",
    "        'lipiec': 'July',\n",
    "        'siepień': 'August',\n",
    "        'wrzesień': 'September',\n",
    "        'październik': 'October',\n",
    "        'listopad': 'November',\n",
    "        'grudzień': 'December'\n",
    "    }\n",
    "    \n",
    "    month = month.strip().lower()\n",
    "    print('Not a valid month name') if month not in months.keys() else print(months[month])\n",
    "\n",
    "translate_month('test')\n",
    "translate_month(' październik')"
   ]
  },
  {
   "cell_type": "markdown",
   "metadata": {},
   "source": [
    "Zad. 21\n",
    "Utwórz funkcję, która jako argument będzie przyjmować listę liczb zmiennoprzecinkowych, a jej wynikiem będzie średnia arytmetyczna. Porównaj jej wynik z wynikiem funkcji mean z pakietu numpy."
   ]
  },
  {
   "cell_type": "code",
   "execution_count": 13,
   "metadata": {},
   "outputs": [
    {
     "name": "stdout",
     "output_type": "stream",
     "text": [
      "2.95\n",
      "2.95\n"
     ]
    }
   ],
   "source": [
    "test_list = [1.6, 2.7, 3.1, 4.4]\n",
    "print(np.mean(test_list))\n",
    "print(calculate_mean(test_list))"
   ]
  },
  {
   "cell_type": "markdown",
   "metadata": {},
   "source": [
    "Zad. 23 Utwórz funkcję, która jako argument będzie przyjmować listę liczb zmiennoprzecinkowych, a jej wynikiem będzie dominanta (moda). Skorzystaj z obiektu Counter i jego metody most_common z pakietu collections"
   ]
  },
  {
   "cell_type": "code",
   "execution_count": 14,
   "metadata": {},
   "outputs": [
    {
     "name": "stdout",
     "output_type": "stream",
     "text": [
      "4\n"
     ]
    }
   ],
   "source": [
    "\n",
    "def dominant(numbers):\n",
    "    return Counter(numbers).most_common(1)[0][0]\n",
    "\n",
    "print(dominant([1, 5, 2, 6, 3, 4, 4, 4, 4, 7, 2,1, 6, 2, 7, 8]))"
   ]
  },
  {
   "cell_type": "markdown",
   "metadata": {},
   "source": [
    "Zad. 30 Wygeneruj listę 1000 liczb losowych o rozkładzie normalnym. Wykreśl histogram oraz średnią, medianę, dominantę, odchylenie standardowe, wariancję, skośność i kurtozę."
   ]
  },
  {
   "cell_type": "code",
   "execution_count": 15,
   "metadata": {},
   "outputs": [
    {
     "data": {
      "image/png": "[encoded data removed]",
      "text/plain": [
       "<Figure size 432x288 with 1 Axes>"
      ]
     },
     "metadata": {
      "needs_background": "light"
     },
     "output_type": "display_data"
    },
    {
     "name": "stdout",
     "output_type": "stream",
     "text": [
      "0.6619369036318707\n",
      "0.685864300297554\n",
      "0.3015272926364713\n",
      "-0.7104600598530215\n",
      "-0.059954266753982785\n"
     ]
    }
   ],
   "source": [
    "data = np.random.normal(loc=np.random.random(), scale=np.random.random(), size=np.random.randint(1, 100))\n",
    "plt.hist(data, alpha=0.67)\n",
    "plt.axvline(np.mean(data), color='r')\n",
    "plt.axvline(np.median(data), color='g')\n",
    "plt.axvline(np.std(data))\n",
    "plt.axvline(kurtosis(data))\n",
    "plt.axvline(skew(data))\n",
    "plt.show()\n",
    "\n",
    "print(np.mean(data))\n",
    "print(np.median(data))\n",
    "print(np.std(data))\n",
    "print(kurtosis(data))\n",
    "print(skew(data))"
   ]
  },
  {
   "cell_type": "markdown",
   "metadata": {},
   "source": [
    "Zad. 34 Utwórz klasę Kwadrat z konstruktorem ustalającym jego bok oraz metodami wyświetlającymi wartość tego boku, obliczającego pole i obwód figury."
   ]
  },
  {
   "cell_type": "code",
   "execution_count": 16,
   "metadata": {},
   "outputs": [
    {
     "name": "stdout",
     "output_type": "stream",
     "text": [
      "4\n",
      "16\n"
     ]
    }
   ],
   "source": [
    "class Kwadrat:\n",
    "    def __init__(self, wall_size):\n",
    "        self.wall_size = wall_size\n",
    "        \n",
    "    def field(self):\n",
    "        return self.wall_size**2\n",
    "    \n",
    "    def circumference(self):\n",
    "        return self.wall_size**4\n",
    "    \n",
    "kw = Kwadrat(wall_size=2)\n",
    "print(kw.field())\n",
    "print(kw.circumference())"
   ]
  }
 ],
 "metadata": {
  "kernelspec": {
   "display_name": "Python 3.7.4 64-bit ('base': conda)",
   "language": "python",
   "name": "python37464bitbaseconda1b50f0b1e3ee41539fb89441a9606a75"
  },
  "language_info": {
   "codemirror_mode": {
    "name": "ipython",
    "version": 3
   },
   "file_extension": ".py",
   "mimetype": "text/x-python",
   "name": "python",
   "nbconvert_exporter": "python",
   "pygments_lexer": "ipython3",
   "version": "3.7.4"
  }
 },
 "nbformat": 4,
 "nbformat_minor": 4
}
