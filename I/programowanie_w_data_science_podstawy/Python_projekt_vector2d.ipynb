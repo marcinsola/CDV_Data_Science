{
 "cells": [
  {
   "cell_type": "markdown",
   "metadata": {},
   "source": [
    "# Podstawy programowania w data science"
   ]
  },
  {
   "cell_type": "markdown",
   "metadata": {},
   "source": [
    "#### Marcin Sola\n",
    "#### Data Science\n",
    "#### st. niestacjonarne\n",
    "Projekty"
   ]
  },
  {
   "cell_type": "markdown",
   "metadata": {},
   "source": [
    "## Projekt nr 2 - Utwórz klasę Vector2D. Wykorzystaj całą wiedzę jaką posiadasz na temat wektorów na płaszczyźnie. Zdefiniuj wszystkie znane Ci operacje.\n"
   ]
  },
  {
   "cell_type": "code",
   "execution_count": 2,
   "metadata": {},
   "outputs": [],
   "source": [
    "import math\n",
    "import operator as op"
   ]
  },
  {
   "cell_type": "code",
   "execution_count": null,
   "metadata": {},
   "outputs": [],
   "source": [
    "class Vector2D:\n",
    "    def __init__(self, x, y):\n",
    "        self.x = x\n",
    "        self.y = y\n",
    "        \n",
    "    def __repr__(self):\n",
    "        return (self.x, self.y)\n",
    "    \n",
    "    def __basic_operation(self, vector, operation):\n",
    "        return (operation(self.x, vector.x), (operation(self.y, vector.y)))\n",
    "    \n",
    "    def get_lenght(self):\n",
    "        return math.sqrt(self.x**2 + self.y**2)\n",
    "    \n",
    "    def inverse(self):\n",
    "        self.x = -self.x\n",
    "        self.y = -self.y\n",
    "        \n",
    "        return self\n",
    "    \n",
    "    def add(self, vector, inplace=False):\n",
    "        x, y = self.__basic_operation(self, vector, op.add)\n",
    "        return Vector2D(x, y)      \n",
    "    \n",
    "    def subtract(self, vector, inplace=False):\n",
    "        x, y = self.__basic_operation(self, vector.inverse(), op.sub)\n",
    "        return Vector2D(x, y)      \n",
    "   \n",
    "    def multiply_by_number(self, number=1, inplace=False):\n",
    "        x, y = self.__basic_operation(self, Vector2D(number, number), op.mul)\n",
    "        \n",
    "    def multiply_scalar(self, vector, inplace=False):\n",
    "        return self.x * vector.x + self.y * vector.y\n",
    "    \n",
    "    def multiply_vector(self, vector, inplace=False):\n",
    "        pass"
   ]
  }
 ],
 "metadata": {
  "kernelspec": {
   "display_name": "Python 3",
   "language": "python",
   "name": "python3"
  },
  "language_info": {
   "codemirror_mode": {
    "name": "ipython",
    "version": 3
   },
   "file_extension": ".py",
   "mimetype": "text/x-python",
   "name": "python",
   "nbconvert_exporter": "python",
   "pygments_lexer": "ipython3",
   "version": "3.7.4"
  }
 },
 "nbformat": 4,
 "nbformat_minor": 4
}
