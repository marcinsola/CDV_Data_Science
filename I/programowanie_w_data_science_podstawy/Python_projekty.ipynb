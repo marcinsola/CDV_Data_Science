{
 "cells": [
  {
   "cell_type": "markdown",
   "metadata": {},
   "source": [
    "# Podstawy programowania w data science"
   ]
  },
  {
   "cell_type": "markdown",
   "metadata": {},
   "source": [
    "#### Marcin Sola\n",
    "#### Data Science\n",
    "#### st. niestacjonarne\n",
    "Projekty"
   ]
  },
  {
   "cell_type": "code",
   "execution_count": 1,
   "metadata": {},
   "outputs": [],
   "source": [
    "import pandas as pd\n",
    "import numpy as np\n",
    "import operator as op"
   ]
  },
  {
   "cell_type": "markdown",
   "metadata": {},
   "source": [
    "## Projekt nr 4 - Utwórz klasę Martix. Wykorzystaj całą wiedzę jaką posiadasz na temat macierzy. Zdefiniuj wszystkie znane Ci operacje."
   ]
  },
  {
   "cell_type": "code",
   "execution_count": null,
   "metadata": {},
   "outputs": [],
   "source": [
    "class Matrix:\n",
    "    def __init__(self, list_of_values, nrows=null, ncols=null, byrow=True inplace=False):\n",
    "        pass\n",
    "        \n",
    "    def __basic_operation(self, matrix, operation):\n",
    "        new_list = []\n",
    "        for rownum in range(0, self.shape[0] + 1):\n",
    "            for colnum in range(0, self.shape[1] + 1):\n",
    "                new_list.append(operation(self[rownum][colnum] matrix[rownum][colnum]))\n",
    "                \n",
    "        return new_list\n",
    "    \n",
    "    #1. Dodawanie\n",
    "    def add(self, matrix):\n",
    "        if self.shape != matrix.shape:\n",
    "            raise ShapeMismatchError('The matrix you are trying to add has different shape than the origin matrix') #zaimplementować ShapeMismatchError\n",
    "            \n",
    "        new_list = self.__basic_operation(op.add)\n",
    "        \n",
    "        #obsłużyć scenariusz z inplace\n",
    "        return Matrix(new_list, self.shape[0], self.shape[1])\n",
    "    \n",
    "    #2. Odejmowanie\n",
    "    def subtract(self, matrix):\n",
    "        if self.shape != matrix.shape:\n",
    "            raise ShapeMismatchError('The matrix you are trying to subtract has different shape than the origin matrix') #zaimplementować ShapeMismatchError\n",
    "            \n",
    "        new_list = self.__basic_operation(op.sub)\n",
    "        #obsłużyć scenariusz z inplace\n",
    "        return Matrix(new_list, self.shape[0], self.shape[1])\n",
    "        \n",
    "    #3. Mnożenie\n",
    "        def multiply(self, matrix):\n",
    "            pass\n",
    "    #4. Mnożenie przez liczbę\n",
    "    def multiply_by_number(self, number=1, inplace=False):\n",
    "        if self.shape != matrix.shape:\n",
    "            raise ShapeMismatchError('The matrix you are trying to subtract has different shape than the origin matrix') #zaimplementować ShapeMismatchError\n",
    "            \n",
    "        new_list = self.__basic_operation(op.mul)\n",
    "        #obsłużyć scenariusz z inplace\n",
    "        return Matrix(new_list, self.shape[0], self.shape[1])\n",
    "        \n",
    "    #5. Transponowanie\n",
    "        def transpose(self, inplace=False):\n",
    "            pass\n",
    "        \n",
    "    #6. Wyliczanie wyznacznika\n",
    "        def det(self):\n",
    "            pass\n",
    "            \n",
    "    #7. Wyliczanie macierzy odwrotnej\n",
    "        def inverse(self, inplace=False):\n",
    "            pass\n",
    "        \n",
    "    #8. Wyliczanie rzędu macierzy\n",
    "        def rank(self):\n",
    "            pass"
   ]
  }
 ],
 "metadata": {
  "kernelspec": {
   "display_name": "Python 3",
   "language": "python",
   "name": "python3"
  },
  "language_info": {
   "codemirror_mode": {
    "name": "ipython",
    "version": 3
   },
   "file_extension": ".py",
   "mimetype": "text/x-python",
   "name": "python",
   "nbconvert_exporter": "python",
   "pygments_lexer": "ipython3",
   "version": "3.7.4"
  }
 },
 "nbformat": 4,
 "nbformat_minor": 4
}
