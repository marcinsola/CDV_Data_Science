{
 "cells": [
  {
   "cell_type": "markdown",
   "metadata": {},
   "source": [
    "# Statystyka z językiem R w ekonomii\n",
    "## Marcin Sola\n",
    "## Data Science rok I tryb niestacjonarny"
   ]
  },
  {
   "cell_type": "markdown",
   "metadata": {},
   "source": [
    "## 1. Pobieranie danych\n",
    "\n",
    "Zaczniemy od pobrania potrzebnych danych i załadowania ich do R za pomocą funkcji `read.csv()`. Musimy jednocześnie podmienić separator na średnik (`read.csv()` domyślnie jako separator przyjmuje przecinek) \n",
    "\n",
    "UWAGA!\n",
    "Do analizy pobrałem plik z tabelą relacyjną csv, poniewaz w ten sposób łatwiej będzie dalej analizować dane."
   ]
  },
  {
   "cell_type": "code",
   "execution_count": 1,
   "metadata": {},
   "outputs": [],
   "source": [
    "df = read.csv(\"CENY_2917_CREL_20200204184449.csv\", sep=\";\")"
   ]
  },
  {
   "cell_type": "markdown",
   "metadata": {},
   "source": [
    "Przyjrzyjmy się bliżej naszym danym danym."
   ]
  },
  {
   "cell_type": "code",
   "execution_count": 2,
   "metadata": {},
   "outputs": [
    {
     "data": {
      "text/plain": [
       "      Kod                         Nazwa          Miesiące  \n",
       " Min.   : 200000   DOLNOŚLĄSKIE      : 120   czerwiec:160  \n",
       " 1st Qu.: 950000   KUJAWSKO-POMORSKIE: 120   grudzień:160  \n",
       " Median :1700000   ŁÓDZKIE           : 120   kwiecień:160  \n",
       " Mean   :1700000   LUBELSKIE         : 120   lipiec  :160  \n",
       " 3rd Qu.:2450000   LUBUSKIE          : 120   listopad:160  \n",
       " Max.   :3200000   MAŁOPOLSKIE       : 120   luty    :160  \n",
       "                   (Other)           :1200   (Other) :960  \n",
       "                                      Rodzaje.towarów.i.usług Cena.i.wskaźniki\n",
       " cebula - za 1 kg                                 :192        cena:1920       \n",
       " czekolada mleczna - za 100g                      :192                        \n",
       " jaja kurze świeże (chów wolnowybiegowy) - za 1szt:192                        \n",
       " kiełbasa wędzona (2) - za 1kg                    :192                        \n",
       " piwo jasne pełne, butelkowane - za 0,5l          :192                        \n",
       " podkoszulek męski bawełniany, bez rękawa         :192                        \n",
       " (Other)                                          :768                        \n",
       "      Rok          Wartosc     Jednostka.miary Atrybut           X          \n",
       " Min.   :2019   0,87   :  19   zł:1920         Mode:logical   Mode:logical  \n",
       " 1st Qu.:2019   0,85   :  18                   NA's:1920      NA's:1920     \n",
       " Median :2019   0,90   :  16                                                \n",
       " Mean   :2019   0,86   :  15                                                \n",
       " 3rd Qu.:2019   0,89   :  14                                                \n",
       " Max.   :2019   1,83   :  14                                                \n",
       "                (Other):1824                                                "
      ]
     },
     "metadata": {},
     "output_type": "display_data"
    }
   ],
   "source": [
    "summary(df)"
   ]
  },
  {
   "cell_type": "markdown",
   "metadata": {},
   "source": [
    "## 2. Czyszczenie i porządkowanie danych\n",
    "Najpierw usuniemy kod województw (równie dobrze możemy posługiwać się nazwami). Możemy również pozbyć się kolumn `Cena.i.wskaźniki`, `Jednostka.miary`, `Atrybut`, `Rok` oraz `X`. Pobraliśmy jedynie cenę (bez innych wskaźników), tylko w złotówkach i tylko z roku 2019. Kolumny `Atrybut` oraz `X` od samego początku posiadają same puste wartości, więc nie są nam zupełnie przydatne."
   ]
  },
  {
   "cell_type": "code",
   "execution_count": 3,
   "metadata": {},
   "outputs": [],
   "source": [
    "df = subset(df, select = -c(Kod, Cena.i.wskaźniki, Jednostka.miary, Atrybut, Rok, X))"
   ]
  },
  {
   "cell_type": "code",
   "execution_count": 4,
   "metadata": {},
   "outputs": [
    {
     "data": {
      "text/html": [
       "<table>\n",
       "<caption>A data.frame: 6 × 4</caption>\n",
       "<thead>\n",
       "\t<tr><th></th><th scope=col>Nazwa</th><th scope=col>Miesiące</th><th scope=col>Rodzaje.towarów.i.usług</th><th scope=col>Wartosc</th></tr>\n",
       "\t<tr><th></th><th scope=col>&lt;fct&gt;</th><th scope=col>&lt;fct&gt;</th><th scope=col>&lt;fct&gt;</th><th scope=col>&lt;fct&gt;</th></tr>\n",
       "</thead>\n",
       "<tbody>\n",
       "\t<tr><th scope=row>1</th><td>DOLNOŚLĄSKIE</td><td>styczeń</td><td>szynka wieprzowa gotowana - za 1kg               </td><td>28,45</td></tr>\n",
       "\t<tr><th scope=row>2</th><td>DOLNOŚLĄSKIE</td><td>styczeń</td><td>kiełbasa wędzona (2) - za 1kg                    </td><td>19,20</td></tr>\n",
       "\t<tr><th scope=row>3</th><td>DOLNOŚLĄSKIE</td><td>styczeń</td><td>śmietana o zawartości tłuszczu 18% - za 200 g    </td><td>2,00 </td></tr>\n",
       "\t<tr><th scope=row>4</th><td>DOLNOŚLĄSKIE</td><td>styczeń</td><td>jaja kurze świeże (chów wolnowybiegowy) - za 1szt</td><td>0,89 </td></tr>\n",
       "\t<tr><th scope=row>5</th><td>DOLNOŚLĄSKIE</td><td>styczeń</td><td>pomarańcze - za 1kg                              </td><td>5,53 </td></tr>\n",
       "\t<tr><th scope=row>6</th><td>DOLNOŚLĄSKIE</td><td>styczeń</td><td>cebula - za 1 kg                                 </td><td>3,18 </td></tr>\n",
       "</tbody>\n",
       "</table>\n"
      ],
      "text/latex": [
       "A data.frame: 6 × 4\n",
       "\\begin{tabular}{r|llll}\n",
       "  & Nazwa & Miesiące & Rodzaje.towarów.i.usług & Wartosc\\\\\n",
       "  & <fct> & <fct> & <fct> & <fct>\\\\\n",
       "\\hline\n",
       "\t1 & DOLNOŚLĄSKIE & styczeń & szynka wieprzowa gotowana - za 1kg                & 28,45\\\\\n",
       "\t2 & DOLNOŚLĄSKIE & styczeń & kiełbasa wędzona (2) - za 1kg                     & 19,20\\\\\n",
       "\t3 & DOLNOŚLĄSKIE & styczeń & śmietana o zawartości tłuszczu 18\\% - za 200 g     & 2,00 \\\\\n",
       "\t4 & DOLNOŚLĄSKIE & styczeń & jaja kurze świeże (chów wolnowybiegowy) - za 1szt & 0,89 \\\\\n",
       "\t5 & DOLNOŚLĄSKIE & styczeń & pomarańcze - za 1kg                               & 5,53 \\\\\n",
       "\t6 & DOLNOŚLĄSKIE & styczeń & cebula - za 1 kg                                  & 3,18 \\\\\n",
       "\\end{tabular}\n"
      ],
      "text/markdown": [
       "\n",
       "A data.frame: 6 × 4\n",
       "\n",
       "| <!--/--> | Nazwa &lt;fct&gt; | Miesiące &lt;fct&gt; | Rodzaje.towarów.i.usług &lt;fct&gt; | Wartosc &lt;fct&gt; |\n",
       "|---|---|---|---|---|\n",
       "| 1 | DOLNOŚLĄSKIE | styczeń | szynka wieprzowa gotowana - za 1kg                | 28,45 |\n",
       "| 2 | DOLNOŚLĄSKIE | styczeń | kiełbasa wędzona (2) - za 1kg                     | 19,20 |\n",
       "| 3 | DOLNOŚLĄSKIE | styczeń | śmietana o zawartości tłuszczu 18% - za 200 g     | 2,00  |\n",
       "| 4 | DOLNOŚLĄSKIE | styczeń | jaja kurze świeże (chów wolnowybiegowy) - za 1szt | 0,89  |\n",
       "| 5 | DOLNOŚLĄSKIE | styczeń | pomarańcze - za 1kg                               | 5,53  |\n",
       "| 6 | DOLNOŚLĄSKIE | styczeń | cebula - za 1 kg                                  | 3,18  |\n",
       "\n"
      ],
      "text/plain": [
       "  Nazwa        Miesiące Rodzaje.towarów.i.usług                          \n",
       "1 DOLNOŚLĄSKIE styczeń  szynka wieprzowa gotowana - za 1kg               \n",
       "2 DOLNOŚLĄSKIE styczeń  kiełbasa wędzona (2) - za 1kg                    \n",
       "3 DOLNOŚLĄSKIE styczeń  śmietana o zawartości tłuszczu 18% - za 200 g    \n",
       "4 DOLNOŚLĄSKIE styczeń  jaja kurze świeże (chów wolnowybiegowy) - za 1szt\n",
       "5 DOLNOŚLĄSKIE styczeń  pomarańcze - za 1kg                              \n",
       "6 DOLNOŚLĄSKIE styczeń  cebula - za 1 kg                                 \n",
       "  Wartosc\n",
       "1 28,45  \n",
       "2 19,20  \n",
       "3 2,00   \n",
       "4 0,89   \n",
       "5 5,53   \n",
       "6 3,18   "
      ]
     },
     "metadata": {},
     "output_type": "display_data"
    }
   ],
   "source": [
    "head(df)"
   ]
  },
  {
   "cell_type": "markdown",
   "metadata": {},
   "source": [
    "Zostały nam 4 cechy. Następnie sprawdźmy, czy nie posiadamy w zbiorze jakichś brakujących danych"
   ]
  },
  {
   "cell_type": "code",
   "execution_count": 5,
   "metadata": {},
   "outputs": [
    {
     "data": {
      "text/html": [
       "<dl class=dl-horizontal>\n",
       "\t<dt>Nazwa</dt>\n",
       "\t\t<dd>0</dd>\n",
       "\t<dt>Miesiące</dt>\n",
       "\t\t<dd>0</dd>\n",
       "\t<dt>Rodzaje.towarów.i.usług</dt>\n",
       "\t\t<dd>0</dd>\n",
       "\t<dt>Wartosc</dt>\n",
       "\t\t<dd>0</dd>\n",
       "</dl>\n"
      ],
      "text/latex": [
       "\\begin{description*}\n",
       "\\item[Nazwa] 0\n",
       "\\item[Miesiące] 0\n",
       "\\item[Rodzaje.towarów.i.usług] 0\n",
       "\\item[Wartosc] 0\n",
       "\\end{description*}\n"
      ],
      "text/markdown": [
       "Nazwa\n",
       ":   0Miesiące\n",
       ":   0Rodzaje.towarów.i.usług\n",
       ":   0Wartosc\n",
       ":   0\n",
       "\n"
      ],
      "text/plain": [
       "                  Nazwa                Miesiące Rodzaje.towarów.i.usług \n",
       "                      0                       0                       0 \n",
       "                Wartosc \n",
       "                      0 "
      ]
     },
     "metadata": {},
     "output_type": "display_data"
    }
   ],
   "source": [
    "sapply(df, function(x) sum(is.na(x)))"
   ]
  },
  {
   "cell_type": "markdown",
   "metadata": {},
   "source": [
    "Jak widać, mamy już kompletne dane, więc możemy przejść dalej.\n",
    "\n",
    "Na początek proponuję pogrupować"
   ]
  }
 ],
 "metadata": {
  "kernelspec": {
   "display_name": "R",
   "language": "R",
   "name": "ir"
  },
  "language_info": {
   "codemirror_mode": "r",
   "file_extension": ".r",
   "mimetype": "text/x-r-source",
   "name": "R",
   "pygments_lexer": "r",
   "version": "3.6.1"
  }
 },
 "nbformat": 4,
 "nbformat_minor": 4
}
